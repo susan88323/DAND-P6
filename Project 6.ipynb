{
 "cells": [
  {
   "cell_type": "code",
   "execution_count": 196,
   "metadata": {
    "collapsed": false
   },
   "outputs": [
    {
     "name": "stdout",
     "output_type": "stream",
     "text": [
      "Populating the interactive namespace from numpy and matplotlib\n"
     ]
    }
   ],
   "source": [
    "%pylab inline\n",
    "\n",
    "import matplotlib.pyplot as plt\n",
    "import seaborn as sns\n",
    "import pandas as pd\n",
    "import numpy as np\n",
    "\n",
    "pm_data = pd.read_csv('Guangzhou_2012.csv', skiprows = 3)"
   ]
  },
  {
   "cell_type": "code",
   "execution_count": 197,
   "metadata": {
    "collapsed": false
   },
   "outputs": [
    {
     "data": {
      "text/html": [
       "<div>\n",
       "<table border=\"1\" class=\"dataframe\">\n",
       "  <thead>\n",
       "    <tr style=\"text-align: right;\">\n",
       "      <th></th>\n",
       "      <th>Site</th>\n",
       "      <th>Parameter</th>\n",
       "      <th>Date (LST)</th>\n",
       "      <th>Year</th>\n",
       "      <th>Month</th>\n",
       "      <th>Day</th>\n",
       "      <th>Hour</th>\n",
       "      <th>Value</th>\n",
       "      <th>Unit</th>\n",
       "      <th>Duration</th>\n",
       "      <th>QC Name</th>\n",
       "    </tr>\n",
       "  </thead>\n",
       "  <tbody>\n",
       "    <tr>\n",
       "      <th>0</th>\n",
       "      <td>Guangzhou</td>\n",
       "      <td>PM2.5</td>\n",
       "      <td>2012-01-01 00:00</td>\n",
       "      <td>2012</td>\n",
       "      <td>1</td>\n",
       "      <td>1</td>\n",
       "      <td>0</td>\n",
       "      <td>84</td>\n",
       "      <td>�g/m�</td>\n",
       "      <td>1 Hr</td>\n",
       "      <td>Valid</td>\n",
       "    </tr>\n",
       "    <tr>\n",
       "      <th>1</th>\n",
       "      <td>Guangzhou</td>\n",
       "      <td>PM2.5</td>\n",
       "      <td>2012-01-01 01:00</td>\n",
       "      <td>2012</td>\n",
       "      <td>1</td>\n",
       "      <td>1</td>\n",
       "      <td>1</td>\n",
       "      <td>81</td>\n",
       "      <td>�g/m�</td>\n",
       "      <td>1 Hr</td>\n",
       "      <td>Valid</td>\n",
       "    </tr>\n",
       "    <tr>\n",
       "      <th>2</th>\n",
       "      <td>Guangzhou</td>\n",
       "      <td>PM2.5</td>\n",
       "      <td>2012-01-01 02:00</td>\n",
       "      <td>2012</td>\n",
       "      <td>1</td>\n",
       "      <td>1</td>\n",
       "      <td>2</td>\n",
       "      <td>72</td>\n",
       "      <td>�g/m�</td>\n",
       "      <td>1 Hr</td>\n",
       "      <td>Valid</td>\n",
       "    </tr>\n",
       "    <tr>\n",
       "      <th>3</th>\n",
       "      <td>Guangzhou</td>\n",
       "      <td>PM2.5</td>\n",
       "      <td>2012-01-01 03:00</td>\n",
       "      <td>2012</td>\n",
       "      <td>1</td>\n",
       "      <td>1</td>\n",
       "      <td>3</td>\n",
       "      <td>80</td>\n",
       "      <td>�g/m�</td>\n",
       "      <td>1 Hr</td>\n",
       "      <td>Valid</td>\n",
       "    </tr>\n",
       "    <tr>\n",
       "      <th>4</th>\n",
       "      <td>Guangzhou</td>\n",
       "      <td>PM2.5</td>\n",
       "      <td>2012-01-01 04:00</td>\n",
       "      <td>2012</td>\n",
       "      <td>1</td>\n",
       "      <td>1</td>\n",
       "      <td>4</td>\n",
       "      <td>69</td>\n",
       "      <td>�g/m�</td>\n",
       "      <td>1 Hr</td>\n",
       "      <td>Valid</td>\n",
       "    </tr>\n",
       "  </tbody>\n",
       "</table>\n",
       "</div>"
      ],
      "text/plain": [
       "        Site Parameter        Date (LST)  Year  Month  Day  Hour  Value  \\\n",
       "0  Guangzhou     PM2.5  2012-01-01 00:00  2012      1    1     0     84   \n",
       "1  Guangzhou     PM2.5  2012-01-01 01:00  2012      1    1     1     81   \n",
       "2  Guangzhou     PM2.5  2012-01-01 02:00  2012      1    1     2     72   \n",
       "3  Guangzhou     PM2.5  2012-01-01 03:00  2012      1    1     3     80   \n",
       "4  Guangzhou     PM2.5  2012-01-01 04:00  2012      1    1     4     69   \n",
       "\n",
       "    Unit Duration QC Name  \n",
       "0  �g/m�     1 Hr   Valid  \n",
       "1  �g/m�     1 Hr   Valid  \n",
       "2  �g/m�     1 Hr   Valid  \n",
       "3  �g/m�     1 Hr   Valid  \n",
       "4  �g/m�     1 Hr   Valid  "
      ]
     },
     "execution_count": 197,
     "metadata": {},
     "output_type": "execute_result"
    }
   ],
   "source": [
    "pm_data.head()"
   ]
  },
  {
   "cell_type": "code",
   "execution_count": 198,
   "metadata": {
    "collapsed": false
   },
   "outputs": [
    {
     "data": {
      "text/plain": [
       "8784"
      ]
     },
     "execution_count": 198,
     "metadata": {},
     "output_type": "execute_result"
    }
   ],
   "source": [
    "len(pm_data)"
   ]
  },
  {
   "cell_type": "code",
   "execution_count": 199,
   "metadata": {
    "collapsed": false
   },
   "outputs": [
    {
     "data": {
      "text/html": [
       "<div>\n",
       "<table border=\"1\" class=\"dataframe\">\n",
       "  <thead>\n",
       "    <tr style=\"text-align: right;\">\n",
       "      <th></th>\n",
       "      <th>Site</th>\n",
       "      <th>Parameter</th>\n",
       "      <th>Date (LST)</th>\n",
       "      <th>Year</th>\n",
       "      <th>Month</th>\n",
       "      <th>Day</th>\n",
       "      <th>Hour</th>\n",
       "      <th>Value</th>\n",
       "      <th>Unit</th>\n",
       "      <th>Duration</th>\n",
       "      <th>QC Name</th>\n",
       "    </tr>\n",
       "  </thead>\n",
       "  <tbody>\n",
       "    <tr>\n",
       "      <th>8779</th>\n",
       "      <td>Guangzhou</td>\n",
       "      <td>PM2.5</td>\n",
       "      <td>2012-12-31 19:00</td>\n",
       "      <td>2012</td>\n",
       "      <td>12</td>\n",
       "      <td>31</td>\n",
       "      <td>19</td>\n",
       "      <td>66</td>\n",
       "      <td>�g/m�</td>\n",
       "      <td>1 Hr</td>\n",
       "      <td>Valid</td>\n",
       "    </tr>\n",
       "    <tr>\n",
       "      <th>8780</th>\n",
       "      <td>Guangzhou</td>\n",
       "      <td>PM2.5</td>\n",
       "      <td>2012-12-31 20:00</td>\n",
       "      <td>2012</td>\n",
       "      <td>12</td>\n",
       "      <td>31</td>\n",
       "      <td>20</td>\n",
       "      <td>91</td>\n",
       "      <td>�g/m�</td>\n",
       "      <td>1 Hr</td>\n",
       "      <td>Valid</td>\n",
       "    </tr>\n",
       "    <tr>\n",
       "      <th>8781</th>\n",
       "      <td>Guangzhou</td>\n",
       "      <td>PM2.5</td>\n",
       "      <td>2012-12-31 21:00</td>\n",
       "      <td>2012</td>\n",
       "      <td>12</td>\n",
       "      <td>31</td>\n",
       "      <td>21</td>\n",
       "      <td>93</td>\n",
       "      <td>�g/m�</td>\n",
       "      <td>1 Hr</td>\n",
       "      <td>Valid</td>\n",
       "    </tr>\n",
       "    <tr>\n",
       "      <th>8782</th>\n",
       "      <td>Guangzhou</td>\n",
       "      <td>PM2.5</td>\n",
       "      <td>2012-12-31 22:00</td>\n",
       "      <td>2012</td>\n",
       "      <td>12</td>\n",
       "      <td>31</td>\n",
       "      <td>22</td>\n",
       "      <td>109</td>\n",
       "      <td>�g/m�</td>\n",
       "      <td>1 Hr</td>\n",
       "      <td>Valid</td>\n",
       "    </tr>\n",
       "    <tr>\n",
       "      <th>8783</th>\n",
       "      <td>Guangzhou</td>\n",
       "      <td>PM2.5</td>\n",
       "      <td>2012-12-31 23:00</td>\n",
       "      <td>2012</td>\n",
       "      <td>12</td>\n",
       "      <td>31</td>\n",
       "      <td>23</td>\n",
       "      <td>98</td>\n",
       "      <td>�g/m�</td>\n",
       "      <td>1 Hr</td>\n",
       "      <td>Valid</td>\n",
       "    </tr>\n",
       "  </tbody>\n",
       "</table>\n",
       "</div>"
      ],
      "text/plain": [
       "           Site Parameter        Date (LST)  Year  Month  Day  Hour  Value  \\\n",
       "8779  Guangzhou     PM2.5  2012-12-31 19:00  2012     12   31    19     66   \n",
       "8780  Guangzhou     PM2.5  2012-12-31 20:00  2012     12   31    20     91   \n",
       "8781  Guangzhou     PM2.5  2012-12-31 21:00  2012     12   31    21     93   \n",
       "8782  Guangzhou     PM2.5  2012-12-31 22:00  2012     12   31    22    109   \n",
       "8783  Guangzhou     PM2.5  2012-12-31 23:00  2012     12   31    23     98   \n",
       "\n",
       "       Unit Duration QC Name  \n",
       "8779  �g/m�     1 Hr   Valid  \n",
       "8780  �g/m�     1 Hr   Valid  \n",
       "8781  �g/m�     1 Hr   Valid  \n",
       "8782  �g/m�     1 Hr   Valid  \n",
       "8783  �g/m�     1 Hr   Valid  "
      ]
     },
     "execution_count": 199,
     "metadata": {},
     "output_type": "execute_result"
    }
   ],
   "source": [
    "pm_data.tail()"
   ]
  },
  {
   "cell_type": "code",
   "execution_count": 200,
   "metadata": {
    "collapsed": false
   },
   "outputs": [],
   "source": [
    "pm_data = pm_data[(pm_data['QC Name'] == 'Valid')]\n",
    "pm_month_day = pm_data.groupby(['Month', 'Day']).mean()"
   ]
  },
  {
   "cell_type": "code",
   "execution_count": 201,
   "metadata": {
    "collapsed": false
   },
   "outputs": [
    {
     "data": {
      "text/html": [
       "<div>\n",
       "<table border=\"1\" class=\"dataframe\">\n",
       "  <thead>\n",
       "    <tr style=\"text-align: right;\">\n",
       "      <th></th>\n",
       "      <th></th>\n",
       "      <th>Year</th>\n",
       "      <th>Hour</th>\n",
       "      <th>Value</th>\n",
       "    </tr>\n",
       "    <tr>\n",
       "      <th>Month</th>\n",
       "      <th>Day</th>\n",
       "      <th></th>\n",
       "      <th></th>\n",
       "      <th></th>\n",
       "    </tr>\n",
       "  </thead>\n",
       "  <tbody>\n",
       "    <tr>\n",
       "      <th rowspan=\"4\" valign=\"top\">1</th>\n",
       "      <th>1</th>\n",
       "      <td>2012.0</td>\n",
       "      <td>11.5</td>\n",
       "      <td>77.375000</td>\n",
       "    </tr>\n",
       "    <tr>\n",
       "      <th>2</th>\n",
       "      <td>2012.0</td>\n",
       "      <td>11.5</td>\n",
       "      <td>98.708333</td>\n",
       "    </tr>\n",
       "    <tr>\n",
       "      <th>3</th>\n",
       "      <td>2012.0</td>\n",
       "      <td>11.5</td>\n",
       "      <td>89.916667</td>\n",
       "    </tr>\n",
       "    <tr>\n",
       "      <th>4</th>\n",
       "      <td>2012.0</td>\n",
       "      <td>4.5</td>\n",
       "      <td>18.900000</td>\n",
       "    </tr>\n",
       "    <tr>\n",
       "      <th>3</th>\n",
       "      <th>15</th>\n",
       "      <td>2012.0</td>\n",
       "      <td>19.0</td>\n",
       "      <td>1.555556</td>\n",
       "    </tr>\n",
       "  </tbody>\n",
       "</table>\n",
       "</div>"
      ],
      "text/plain": [
       "             Year  Hour      Value\n",
       "Month Day                         \n",
       "1     1    2012.0  11.5  77.375000\n",
       "      2    2012.0  11.5  98.708333\n",
       "      3    2012.0  11.5  89.916667\n",
       "      4    2012.0   4.5  18.900000\n",
       "3     15   2012.0  19.0   1.555556"
      ]
     },
     "execution_count": 201,
     "metadata": {},
     "output_type": "execute_result"
    }
   ],
   "source": [
    "pm_month_day.head()"
   ]
  },
  {
   "cell_type": "code",
   "execution_count": 53,
   "metadata": {
    "collapsed": false
   },
   "outputs": [
    {
     "data": {
      "text/plain": [
       "pandas.core.frame.DataFrame"
      ]
     },
     "execution_count": 53,
     "metadata": {},
     "output_type": "execute_result"
    }
   ],
   "source": [
    "type(pm_month_day)"
   ]
  },
  {
   "cell_type": "code",
   "execution_count": 179,
   "metadata": {
    "collapsed": false
   },
   "outputs": [
    {
     "name": "stdout",
     "output_type": "stream",
     "text": [
      "114.75\n",
      "9.375\n"
     ]
    }
   ],
   "source": [
    "print pm_month_day['Value'].max()\n",
    "print pm_month_day['Value'].min()"
   ]
  },
  {
   "cell_type": "code",
   "execution_count": 189,
   "metadata": {
    "collapsed": false
   },
   "outputs": [],
   "source": [
    "bins = [0, 50, 100, 150, 200, 300, 500]\n",
    "group_names = ['Good', 'Moderate', 'Unhealthy for Sensitive Groups', 'Unhealthy', 'Very Unhealthy', 'Hazardous']\n",
    "\n",
    "categories = pd.cut(pm_month_day['Value'], bins, labels=group_names)\n",
    "pm_month_day['categories'] = pd.cut(pm_month_day['Value'], bins, labels=group_names)"
   ]
  },
  {
   "cell_type": "code",
   "execution_count": 190,
   "metadata": {
    "collapsed": false
   },
   "outputs": [
    {
     "data": {
      "text/html": [
       "<div>\n",
       "<table border=\"1\" class=\"dataframe\">\n",
       "  <thead>\n",
       "    <tr style=\"text-align: right;\">\n",
       "      <th></th>\n",
       "      <th></th>\n",
       "      <th>Year</th>\n",
       "      <th>Hour</th>\n",
       "      <th>Value</th>\n",
       "      <th>categories</th>\n",
       "    </tr>\n",
       "    <tr>\n",
       "      <th>Month</th>\n",
       "      <th>Day</th>\n",
       "      <th></th>\n",
       "      <th></th>\n",
       "      <th></th>\n",
       "      <th></th>\n",
       "    </tr>\n",
       "  </thead>\n",
       "  <tbody>\n",
       "    <tr>\n",
       "      <th rowspan=\"5\" valign=\"top\">1</th>\n",
       "      <th>1</th>\n",
       "      <td>2013.0</td>\n",
       "      <td>11.500000</td>\n",
       "      <td>57.083333</td>\n",
       "      <td>Moderate</td>\n",
       "    </tr>\n",
       "    <tr>\n",
       "      <th>2</th>\n",
       "      <td>2013.0</td>\n",
       "      <td>11.500000</td>\n",
       "      <td>70.083333</td>\n",
       "      <td>Moderate</td>\n",
       "    </tr>\n",
       "    <tr>\n",
       "      <th>3</th>\n",
       "      <td>2013.0</td>\n",
       "      <td>11.500000</td>\n",
       "      <td>57.541667</td>\n",
       "      <td>Moderate</td>\n",
       "    </tr>\n",
       "    <tr>\n",
       "      <th>4</th>\n",
       "      <td>2013.0</td>\n",
       "      <td>11.500000</td>\n",
       "      <td>34.416667</td>\n",
       "      <td>Good</td>\n",
       "    </tr>\n",
       "    <tr>\n",
       "      <th>5</th>\n",
       "      <td>2013.0</td>\n",
       "      <td>11.173913</td>\n",
       "      <td>29.391304</td>\n",
       "      <td>Good</td>\n",
       "    </tr>\n",
       "  </tbody>\n",
       "</table>\n",
       "</div>"
      ],
      "text/plain": [
       "             Year       Hour      Value categories\n",
       "Month Day                                         \n",
       "1     1    2013.0  11.500000  57.083333   Moderate\n",
       "      2    2013.0  11.500000  70.083333   Moderate\n",
       "      3    2013.0  11.500000  57.541667   Moderate\n",
       "      4    2013.0  11.500000  34.416667       Good\n",
       "      5    2013.0  11.173913  29.391304       Good"
      ]
     },
     "execution_count": 190,
     "metadata": {},
     "output_type": "execute_result"
    }
   ],
   "source": [
    "pm_month_day.head()"
   ]
  },
  {
   "cell_type": "code",
   "execution_count": 191,
   "metadata": {
    "collapsed": false
   },
   "outputs": [],
   "source": [
    "month_count = pd.value_counts(pm_month_day.loc[1]['categories'], sort = False)\n",
    "df = month_count.to_frame()\n",
    "df = df.rename(columns = {'categories':'Days'})"
   ]
  },
  {
   "cell_type": "code",
   "execution_count": 192,
   "metadata": {
    "collapsed": false
   },
   "outputs": [
    {
     "data": {
      "text/html": [
       "<div>\n",
       "<table border=\"1\" class=\"dataframe\">\n",
       "  <thead>\n",
       "    <tr style=\"text-align: right;\">\n",
       "      <th></th>\n",
       "      <th>Days</th>\n",
       "    </tr>\n",
       "  </thead>\n",
       "  <tbody>\n",
       "    <tr>\n",
       "      <th>Good</th>\n",
       "      <td>3</td>\n",
       "    </tr>\n",
       "    <tr>\n",
       "      <th>Moderate</th>\n",
       "      <td>19</td>\n",
       "    </tr>\n",
       "    <tr>\n",
       "      <th>Unhealthy for Sensitive Groups</th>\n",
       "      <td>8</td>\n",
       "    </tr>\n",
       "    <tr>\n",
       "      <th>Unhealthy</th>\n",
       "      <td>1</td>\n",
       "    </tr>\n",
       "    <tr>\n",
       "      <th>Very Unhealthy</th>\n",
       "      <td>0</td>\n",
       "    </tr>\n",
       "    <tr>\n",
       "      <th>Hazardous</th>\n",
       "      <td>0</td>\n",
       "    </tr>\n",
       "  </tbody>\n",
       "</table>\n",
       "</div>"
      ],
      "text/plain": [
       "                                Days\n",
       "Good                               3\n",
       "Moderate                          19\n",
       "Unhealthy for Sensitive Groups     8\n",
       "Unhealthy                          1\n",
       "Very Unhealthy                     0\n",
       "Hazardous                          0"
      ]
     },
     "execution_count": 192,
     "metadata": {},
     "output_type": "execute_result"
    }
   ],
   "source": [
    "df"
   ]
  },
  {
   "cell_type": "code",
   "execution_count": 193,
   "metadata": {
    "collapsed": false
   },
   "outputs": [
    {
     "data": {
      "text/html": [
       "<div>\n",
       "<table border=\"1\" class=\"dataframe\">\n",
       "  <thead>\n",
       "    <tr style=\"text-align: right;\">\n",
       "      <th></th>\n",
       "      <th>Days</th>\n",
       "      <th>Month</th>\n",
       "    </tr>\n",
       "  </thead>\n",
       "  <tbody>\n",
       "    <tr>\n",
       "      <th>Good</th>\n",
       "      <td>3</td>\n",
       "      <td>1</td>\n",
       "    </tr>\n",
       "    <tr>\n",
       "      <th>Moderate</th>\n",
       "      <td>19</td>\n",
       "      <td>1</td>\n",
       "    </tr>\n",
       "    <tr>\n",
       "      <th>Unhealthy for Sensitive Groups</th>\n",
       "      <td>8</td>\n",
       "      <td>1</td>\n",
       "    </tr>\n",
       "    <tr>\n",
       "      <th>Unhealthy</th>\n",
       "      <td>1</td>\n",
       "      <td>1</td>\n",
       "    </tr>\n",
       "    <tr>\n",
       "      <th>Very Unhealthy</th>\n",
       "      <td>0</td>\n",
       "      <td>1</td>\n",
       "    </tr>\n",
       "    <tr>\n",
       "      <th>Hazardous</th>\n",
       "      <td>0</td>\n",
       "      <td>1</td>\n",
       "    </tr>\n",
       "  </tbody>\n",
       "</table>\n",
       "</div>"
      ],
      "text/plain": [
       "                                Days Month\n",
       "Good                               3     1\n",
       "Moderate                          19     1\n",
       "Unhealthy for Sensitive Groups     8     1\n",
       "Unhealthy                          1     1\n",
       "Very Unhealthy                     0     1\n",
       "Hazardous                          0     1"
      ]
     },
     "execution_count": 193,
     "metadata": {},
     "output_type": "execute_result"
    }
   ],
   "source": [
    "df['Month'] = '1'\n",
    "df"
   ]
  },
  {
   "cell_type": "code",
   "execution_count": 194,
   "metadata": {
    "collapsed": false
   },
   "outputs": [],
   "source": [
    "for i in range(2, 13):\n",
    "    month_count = pd.value_counts(pm_month_day.loc[i]['categories'], sort = False)\n",
    "    temp = month_count.to_frame()\n",
    "    temp = temp.rename(columns = {'categories':'Days'})\n",
    "    temp['Month'] = str(i)\n",
    "    df = df.append(temp)"
   ]
  },
  {
   "cell_type": "code",
   "execution_count": 195,
   "metadata": {
    "collapsed": false,
    "scrolled": true
   },
   "outputs": [
    {
     "data": {
      "text/html": [
       "<div>\n",
       "<table border=\"1\" class=\"dataframe\">\n",
       "  <thead>\n",
       "    <tr style=\"text-align: right;\">\n",
       "      <th></th>\n",
       "      <th>Days</th>\n",
       "      <th>Month</th>\n",
       "      <th>Year</th>\n",
       "    </tr>\n",
       "  </thead>\n",
       "  <tbody>\n",
       "    <tr>\n",
       "      <th>Good</th>\n",
       "      <td>3</td>\n",
       "      <td>1</td>\n",
       "      <td>2013</td>\n",
       "    </tr>\n",
       "    <tr>\n",
       "      <th>Moderate</th>\n",
       "      <td>19</td>\n",
       "      <td>1</td>\n",
       "      <td>2013</td>\n",
       "    </tr>\n",
       "    <tr>\n",
       "      <th>Unhealthy for Sensitive Groups</th>\n",
       "      <td>8</td>\n",
       "      <td>1</td>\n",
       "      <td>2013</td>\n",
       "    </tr>\n",
       "    <tr>\n",
       "      <th>Unhealthy</th>\n",
       "      <td>1</td>\n",
       "      <td>1</td>\n",
       "      <td>2013</td>\n",
       "    </tr>\n",
       "    <tr>\n",
       "      <th>Very Unhealthy</th>\n",
       "      <td>0</td>\n",
       "      <td>1</td>\n",
       "      <td>2013</td>\n",
       "    </tr>\n",
       "  </tbody>\n",
       "</table>\n",
       "</div>"
      ],
      "text/plain": [
       "                                Days Month  Year\n",
       "Good                               3     1  2013\n",
       "Moderate                          19     1  2013\n",
       "Unhealthy for Sensitive Groups     8     1  2013\n",
       "Unhealthy                          1     1  2013\n",
       "Very Unhealthy                     0     1  2013"
      ]
     },
     "execution_count": 195,
     "metadata": {},
     "output_type": "execute_result"
    }
   ],
   "source": [
    "df['Year'] = str(2013)\n",
    "df.head()"
   ]
  },
  {
   "cell_type": "code",
   "execution_count": 140,
   "metadata": {
    "collapsed": true
   },
   "outputs": [],
   "source": [
    "df.to_csv('out.csv')"
   ]
  },
  {
   "cell_type": "code",
   "execution_count": 143,
   "metadata": {
    "collapsed": false
   },
   "outputs": [
    {
     "data": {
      "text/html": [
       "<div>\n",
       "<table border=\"1\" class=\"dataframe\">\n",
       "  <thead>\n",
       "    <tr style=\"text-align: right;\">\n",
       "      <th></th>\n",
       "      <th>Year</th>\n",
       "      <th>Day</th>\n",
       "      <th>Hour</th>\n",
       "      <th>Value</th>\n",
       "    </tr>\n",
       "    <tr>\n",
       "      <th>Month</th>\n",
       "      <th></th>\n",
       "      <th></th>\n",
       "      <th></th>\n",
       "      <th></th>\n",
       "    </tr>\n",
       "  </thead>\n",
       "  <tbody>\n",
       "    <tr>\n",
       "      <th>1</th>\n",
       "      <td>2016.0</td>\n",
       "      <td>15.995962</td>\n",
       "      <td>11.502019</td>\n",
       "      <td>72.146703</td>\n",
       "    </tr>\n",
       "    <tr>\n",
       "      <th>2</th>\n",
       "      <td>2016.0</td>\n",
       "      <td>14.991329</td>\n",
       "      <td>11.528902</td>\n",
       "      <td>43.959538</td>\n",
       "    </tr>\n",
       "    <tr>\n",
       "      <th>3</th>\n",
       "      <td>2016.0</td>\n",
       "      <td>15.993271</td>\n",
       "      <td>11.503365</td>\n",
       "      <td>93.125168</td>\n",
       "    </tr>\n",
       "    <tr>\n",
       "      <th>4</th>\n",
       "      <td>2016.0</td>\n",
       "      <td>15.500000</td>\n",
       "      <td>11.500000</td>\n",
       "      <td>66.500000</td>\n",
       "    </tr>\n",
       "    <tr>\n",
       "      <th>5</th>\n",
       "      <td>2016.0</td>\n",
       "      <td>15.974359</td>\n",
       "      <td>11.499325</td>\n",
       "      <td>55.245614</td>\n",
       "    </tr>\n",
       "    <tr>\n",
       "      <th>6</th>\n",
       "      <td>2016.0</td>\n",
       "      <td>15.452514</td>\n",
       "      <td>11.498603</td>\n",
       "      <td>58.668994</td>\n",
       "    </tr>\n",
       "    <tr>\n",
       "      <th>7</th>\n",
       "      <td>2016.0</td>\n",
       "      <td>15.991914</td>\n",
       "      <td>11.502695</td>\n",
       "      <td>59.161725</td>\n",
       "    </tr>\n",
       "    <tr>\n",
       "      <th>8</th>\n",
       "      <td>2016.0</td>\n",
       "      <td>15.986523</td>\n",
       "      <td>11.493261</td>\n",
       "      <td>38.673854</td>\n",
       "    </tr>\n",
       "    <tr>\n",
       "      <th>9</th>\n",
       "      <td>2016.0</td>\n",
       "      <td>15.500000</td>\n",
       "      <td>11.500000</td>\n",
       "      <td>51.595833</td>\n",
       "    </tr>\n",
       "    <tr>\n",
       "      <th>10</th>\n",
       "      <td>2016.0</td>\n",
       "      <td>15.987788</td>\n",
       "      <td>11.489824</td>\n",
       "      <td>82.092266</td>\n",
       "    </tr>\n",
       "    <tr>\n",
       "      <th>11</th>\n",
       "      <td>2016.0</td>\n",
       "      <td>15.495119</td>\n",
       "      <td>11.504881</td>\n",
       "      <td>104.739191</td>\n",
       "    </tr>\n",
       "    <tr>\n",
       "      <th>12</th>\n",
       "      <td>2016.0</td>\n",
       "      <td>15.998652</td>\n",
       "      <td>11.486523</td>\n",
       "      <td>144.628032</td>\n",
       "    </tr>\n",
       "  </tbody>\n",
       "</table>\n",
       "</div>"
      ],
      "text/plain": [
       "         Year        Day       Hour       Value\n",
       "Month                                          \n",
       "1      2016.0  15.995962  11.502019   72.146703\n",
       "2      2016.0  14.991329  11.528902   43.959538\n",
       "3      2016.0  15.993271  11.503365   93.125168\n",
       "4      2016.0  15.500000  11.500000   66.500000\n",
       "5      2016.0  15.974359  11.499325   55.245614\n",
       "6      2016.0  15.452514  11.498603   58.668994\n",
       "7      2016.0  15.991914  11.502695   59.161725\n",
       "8      2016.0  15.986523  11.493261   38.673854\n",
       "9      2016.0  15.500000  11.500000   51.595833\n",
       "10     2016.0  15.987788  11.489824   82.092266\n",
       "11     2016.0  15.495119  11.504881  104.739191\n",
       "12     2016.0  15.998652  11.486523  144.628032"
      ]
     },
     "execution_count": 143,
     "metadata": {},
     "output_type": "execute_result"
    }
   ],
   "source": [
    "pm_month = pm_data.groupby(['Month']).mean()\n",
    "pm_month"
   ]
  },
  {
   "cell_type": "code",
   "execution_count": 146,
   "metadata": {
    "collapsed": false
   },
   "outputs": [
    {
     "data": {
      "text/plain": [
       "Year     2016.000000\n",
       "Month       6.511479\n",
       "Day        15.745860\n",
       "Hour       11.500628\n",
       "Value      72.723929\n",
       "dtype: float64"
      ]
     },
     "execution_count": 146,
     "metadata": {},
     "output_type": "execute_result"
    }
   ],
   "source": [
    "pm_year_2016 = pm_data.mean()\n",
    "pm_year_2016"
   ]
  },
  {
   "cell_type": "code",
   "execution_count": 154,
   "metadata": {
    "collapsed": false
   },
   "outputs": [
    {
     "data": {
      "text/plain": [
       "Year     2015.000000\n",
       "Month       6.541806\n",
       "Day        15.671203\n",
       "Hour       11.492907\n",
       "Value      82.648253\n",
       "dtype: float64"
      ]
     },
     "execution_count": 154,
     "metadata": {},
     "output_type": "execute_result"
    }
   ],
   "source": [
    "pm_data_2015 = pd.read_csv('Beijing_2015.csv', skiprows = 3)\n",
    "pm_data_2015 = pm_data_2015[(pm_data_2015['QC Name'] == 'Valid')]\n",
    "pm_year_2015 = pm_data_2015.mean()\n",
    "pm_year_2015"
   ]
  },
  {
   "cell_type": "code",
   "execution_count": 155,
   "metadata": {
    "collapsed": false
   },
   "outputs": [
    {
     "data": {
      "text/plain": [
       "[99.093240383418404,\n",
       " 90.51693791440627,\n",
       " 101.71110855035722,\n",
       " 97.734095370049644,\n",
       " 82.648252796678577,\n",
       " 72.723929183323818]"
      ]
     },
     "execution_count": 155,
     "metadata": {},
     "output_type": "execute_result"
    }
   ],
   "source": [
    "# Compute yearly average\n",
    "yearly_average = list()\n",
    "\n",
    "for i in range(2011, 2017):\n",
    "    data = pd.read_csv(('Beijing_' + str(i) + '.csv'), skiprows = 3)\n",
    "    data = data[(data['QC Name'] == 'Valid')]\n",
    "    data = data.mean()\n",
    "    yearly_average.append(data['Value'])\n",
    "\n",
    "yearly_average"
   ]
  },
  {
   "cell_type": "code",
   "execution_count": 157,
   "metadata": {
    "collapsed": false
   },
   "outputs": [
    {
     "data": {
      "text/plain": [
       "[54.410256410256409,\n",
       " 17.787789042032124,\n",
       " 57.275557620817843,\n",
       " 49.635208501790459,\n",
       " 50.726774001192609,\n",
       " 45.384039316639367]"
      ]
     },
     "execution_count": 157,
     "metadata": {},
     "output_type": "execute_result"
    }
   ],
   "source": [
    "# Compute yearly average\n",
    "yearly_average = list()\n",
    "\n",
    "for i in range(2011, 2017):\n",
    "    data = pd.read_csv(('Shanghai_' + str(i) + '.csv'), skiprows = 3)\n",
    "    data = data[(data['QC Name'] == 'Valid')]\n",
    "    data = data.mean()\n",
    "    yearly_average.append(data['Value'])\n",
    "\n",
    "yearly_average"
   ]
  },
  {
   "cell_type": "code",
   "execution_count": 160,
   "metadata": {
    "collapsed": false
   },
   "outputs": [
    {
     "data": {
      "text/plain": [
       "[73.110367892976583,\n",
       " 56.808671922377201,\n",
       " 55.344737155799258,\n",
       " 49.680468268638322,\n",
       " 39.456547064305688,\n",
       " 32.611704711024771]"
      ]
     },
     "execution_count": 160,
     "metadata": {},
     "output_type": "execute_result"
    }
   ],
   "source": [
    "# Compute yearly average\n",
    "yearly_average = list()\n",
    "\n",
    "for i in range(2011, 2017):\n",
    "    data = pd.read_csv(('Guangzhou_' + str(i) + '.csv'), skiprows = 3)\n",
    "    data = data[(data['QC Name'] == 'Valid')]\n",
    "    data = data.mean()\n",
    "    yearly_average.append(data['Value'])\n",
    "\n",
    "yearly_average"
   ]
  },
  {
   "cell_type": "code",
   "execution_count": null,
   "metadata": {
    "collapsed": true
   },
   "outputs": [],
   "source": []
  }
 ],
 "metadata": {
  "anaconda-cloud": {},
  "kernelspec": {
   "display_name": "Python [conda root]",
   "language": "python",
   "name": "conda-root-py"
  },
  "language_info": {
   "codemirror_mode": {
    "name": "ipython",
    "version": 2
   },
   "file_extension": ".py",
   "mimetype": "text/x-python",
   "name": "python",
   "nbconvert_exporter": "python",
   "pygments_lexer": "ipython2",
   "version": "2.7.12"
  }
 },
 "nbformat": 4,
 "nbformat_minor": 1
}
